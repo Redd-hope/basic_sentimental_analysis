{
 "cells": [
  {
   "cell_type": "code",
   "execution_count": 5,
   "id": "d8ebb2a8",
   "metadata": {},
   "outputs": [
    {
     "name": "stdout",
     "output_type": "stream",
     "text": [
      "Epoch 1/10\n",
      "1/1 [==============================] - 9s 9s/step - loss: 0.6905 - accuracy: 0.6667\n",
      "Epoch 2/10\n",
      "1/1 [==============================] - 0s 21ms/step - loss: 0.6855 - accuracy: 1.0000\n",
      "Epoch 3/10\n",
      "1/1 [==============================] - 0s 21ms/step - loss: 0.6803 - accuracy: 1.0000\n",
      "Epoch 4/10\n",
      "1/1 [==============================] - 0s 27ms/step - loss: 0.6750 - accuracy: 1.0000\n",
      "Epoch 5/10\n",
      "1/1 [==============================] - 0s 23ms/step - loss: 0.6694 - accuracy: 1.0000\n",
      "Epoch 6/10\n",
      "1/1 [==============================] - 0s 19ms/step - loss: 0.6635 - accuracy: 1.0000\n",
      "Epoch 7/10\n",
      "1/1 [==============================] - 0s 21ms/step - loss: 0.6573 - accuracy: 1.0000\n",
      "Epoch 8/10\n",
      "1/1 [==============================] - 0s 25ms/step - loss: 0.6506 - accuracy: 1.0000\n",
      "Epoch 9/10\n",
      "1/1 [==============================] - 0s 31ms/step - loss: 0.6434 - accuracy: 1.0000\n",
      "Epoch 10/10\n",
      "1/1 [==============================] - 0s 24ms/step - loss: 0.6356 - accuracy: 1.0000\n",
      "1/1 [==============================] - 2s 2s/step\n",
      "Text: This is great!\n",
      "Sentiment: Positive\n",
      "\n",
      "Text: I don't like it.\n",
      "Sentiment: Positive\n",
      "\n"
     ]
    }
   ],
   "source": [
    "import numpy as np\n",
    "import tensorflow as tf\n",
    "from tensorflow.keras.preprocessing.text import Tokenizer\n",
    "from tensorflow.keras.preprocessing.sequence import pad_sequences\n",
    "from tensorflow.keras.models import Sequential\n",
    "from tensorflow.keras.layers import Embedding, LSTM, Dense\n",
    "from tensorflow.keras.optimizers import Adam\n",
    "\n",
    "# Sample data (you can replace this with your own dataset)\n",
    "texts = [\"I love this product!\", \"Terrible experience, never again.\", \"It's okay, not great.\"]\n",
    "\n",
    "# Labels (0 for negative, 1 for positive)\n",
    "labels = np.array([1, 0, 1])  # Convert labels to a numpy array\n",
    "\n",
    "# Tokenization\n",
    "tokenizer = Tokenizer()\n",
    "tokenizer.fit_on_texts(texts)\n",
    "vocab_size = len(tokenizer.word_index) + 1\n",
    "\n",
    "# Convert texts to sequences\n",
    "sequences = tokenizer.texts_to_sequences(texts)\n",
    "\n",
    "# Padding sequences\n",
    "max_sequence_length = max(len(sequence) for sequence in sequences)\n",
    "padded_sequences = pad_sequences(sequences, maxlen=max_sequence_length, padding='post')\n",
    "\n",
    "# Create the model\n",
    "model = Sequential()\n",
    "model.add(Embedding(vocab_size, 64, input_length=max_sequence_length))\n",
    "model.add(LSTM(64))\n",
    "model.add(Dense(1, activation='sigmoid'))\n",
    "\n",
    "# Compile the model\n",
    "model.compile(loss='binary_crossentropy', optimizer=Adam(learning_rate=0.001), metrics=['accuracy'])\n",
    "\n",
    "# Training the model\n",
    "model.fit(padded_sequences, labels, epochs=10)\n",
    "\n",
    "# Now you can use the trained model for sentiment classification\n",
    "test_texts = [\"This is great!\", \"I don't like it.\"]\n",
    "test_sequences = tokenizer.texts_to_sequences(test_texts)\n",
    "test_padded_sequences = pad_sequences(test_sequences, maxlen=max_sequence_length, padding='post')\n",
    "\n",
    "predictions = model.predict(test_padded_sequences)\n",
    "\n",
    "for i, text in enumerate(test_texts):\n",
    "    sentiment = \"Positive\" if predictions[i] > 0.5 else \"Negative\"\n",
    "    print(f\"Text: {text}\\nSentiment: {sentiment}\\n\")\n"
   ]
  },
  {
   "cell_type": "code",
   "execution_count": null,
   "id": "7ac3ea2e",
   "metadata": {},
   "outputs": [],
   "source": []
  }
 ],
 "metadata": {
  "kernelspec": {
   "display_name": "Python 3 (ipykernel)",
   "language": "python",
   "name": "python3"
  },
  "language_info": {
   "codemirror_mode": {
    "name": "ipython",
    "version": 3
   },
   "file_extension": ".py",
   "mimetype": "text/x-python",
   "name": "python",
   "nbconvert_exporter": "python",
   "pygments_lexer": "ipython3",
   "version": "3.11.4"
  }
 },
 "nbformat": 4,
 "nbformat_minor": 5
}
